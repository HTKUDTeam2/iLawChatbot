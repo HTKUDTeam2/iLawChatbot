{
 "cells": [
  {
   "cell_type": "code",
   "execution_count": null,
   "metadata": {
    "id": "N_lXDGuAoGAi"
   },
   "outputs": [],
   "source": [
    "# from google.colab import drive\n",
    "# drive.mount('/content/gdrive')"
   ]
  },
  {
   "cell_type": "code",
   "execution_count": null,
   "metadata": {
    "id": "c0vQ0l9ooXH-"
   },
   "outputs": [],
   "source": [
    "# import os\n",
    "# os.chdir(\"/content/gdrive/MyDrive/Colab Notebooks/RAGLangChain\")"
   ]
  },
  {
   "cell_type": "code",
   "execution_count": null,
   "metadata": {
    "id": "6xAp65-yos1t"
   },
   "outputs": [],
   "source": [
    "# !pip install -q langchain\n",
    "# !pip install -q chromadb\n",
    "# !pip install -q langchain_community\n",
    "# !pip install -q langchain_chroma\n",
    "# !pip install -U -q langchain-huggingface\n",
    "# !pip install -q openai\n",
    "# !pip install -q tqdm"
   ]
  },
  {
   "cell_type": "markdown",
   "metadata": {},
   "source": []
  },
  {
   "cell_type": "markdown",
   "metadata": {
    "id": "zvZ72YnOpNBU"
   },
   "source": [
    "## Embeding ThuVienPhapLuat\n"
   ]
  },
  {
   "cell_type": "code",
   "execution_count": null,
   "metadata": {
    "id": "iPEowWeAo7yH"
   },
   "outputs": [
    {
     "ename": "ModuleNotFoundError",
     "evalue": "No module named 'langchain'",
     "output_type": "error",
     "traceback": [
      "\u001b[1;31m---------------------------------------------------------------------------\u001b[0m",
      "\u001b[1;31mModuleNotFoundError\u001b[0m                       Traceback (most recent call last)",
      "Cell \u001b[1;32mIn[6], line 2\u001b[0m\n\u001b[0;32m      1\u001b[0m \u001b[38;5;28;01mimport\u001b[39;00m \u001b[38;5;21;01mos\u001b[39;00m\n\u001b[1;32m----> 2\u001b[0m \u001b[38;5;28;01mfrom\u001b[39;00m \u001b[38;5;21;01mlangchain\u001b[39;00m\u001b[38;5;21;01m.\u001b[39;00m\u001b[38;5;21;01mschema\u001b[39;00m \u001b[38;5;28;01mimport\u001b[39;00m Document\n\u001b[0;32m      3\u001b[0m \u001b[38;5;28;01mfrom\u001b[39;00m \u001b[38;5;21;01mlangchain_chroma\u001b[39;00m \u001b[38;5;28;01mimport\u001b[39;00m Chroma\n\u001b[0;32m      4\u001b[0m \u001b[38;5;28;01mfrom\u001b[39;00m \u001b[38;5;21;01mlangchain_community\u001b[39;00m\u001b[38;5;21;01m.\u001b[39;00m\u001b[38;5;21;01mdocument_loaders\u001b[39;00m \u001b[38;5;28;01mimport\u001b[39;00m CSVLoader\n",
      "\u001b[1;31mModuleNotFoundError\u001b[0m: No module named 'langchain'"
     ]
    }
   ],
   "source": []
  },
  {
   "cell_type": "code",
   "execution_count": 9,
   "metadata": {},
   "outputs": [
    {
     "ename": "ModuleNotFoundError",
     "evalue": "No module named 'langchain'",
     "output_type": "error",
     "traceback": [
      "\u001b[1;31m---------------------------------------------------------------------------\u001b[0m",
      "\u001b[1;31mModuleNotFoundError\u001b[0m                       Traceback (most recent call last)",
      "Cell \u001b[1;32mIn[9], line 2\u001b[0m\n\u001b[0;32m      1\u001b[0m \u001b[38;5;28;01mimport\u001b[39;00m \u001b[38;5;21;01mos\u001b[39;00m\n\u001b[1;32m----> 2\u001b[0m \u001b[38;5;28;01mfrom\u001b[39;00m \u001b[38;5;21;01mlangchain\u001b[39;00m\u001b[38;5;21;01m.\u001b[39;00m\u001b[38;5;21;01mschema\u001b[39;00m \u001b[38;5;28;01mimport\u001b[39;00m Document\n\u001b[0;32m      3\u001b[0m \u001b[38;5;28;01mfrom\u001b[39;00m \u001b[38;5;21;01mlangchain_chroma\u001b[39;00m \u001b[38;5;28;01mimport\u001b[39;00m Chroma\n\u001b[0;32m      4\u001b[0m \u001b[38;5;28;01mfrom\u001b[39;00m \u001b[38;5;21;01mlangchain_community\u001b[39;00m\u001b[38;5;21;01m.\u001b[39;00m\u001b[38;5;21;01mdocument_loaders\u001b[39;00m \u001b[38;5;28;01mimport\u001b[39;00m CSVLoader\n",
      "\u001b[1;31mModuleNotFoundError\u001b[0m: No module named 'langchain'"
     ]
    }
   ],
   "source": [
    "import os\n",
    "from langchain.schema import Document\n",
    "from langchain_chroma import Chroma\n",
    "from langchain_community.document_loaders import CSVLoader\n",
    "from langchain_huggingface import HuggingFaceEmbeddings  # Updated import\n",
    "from langchain.text_splitter import RecursiveCharacterTextSplitter\n",
    "from tqdm import tqdm\n",
    "import csv\n",
    "import re\n",
    "import pandas as pd"
   ]
  },
  {
   "cell_type": "code",
   "execution_count": 13,
   "metadata": {
    "id": "k6DQyJKNp0TA"
   },
   "outputs": [
    {
     "data": {
      "text/html": [
       "<div>\n",
       "<style scoped>\n",
       "    .dataframe tbody tr th:only-of-type {\n",
       "        vertical-align: middle;\n",
       "    }\n",
       "\n",
       "    .dataframe tbody tr th {\n",
       "        vertical-align: top;\n",
       "    }\n",
       "\n",
       "    .dataframe thead th {\n",
       "        text-align: right;\n",
       "    }\n",
       "</style>\n",
       "<table border=\"1\" class=\"dataframe\">\n",
       "  <thead>\n",
       "    <tr style=\"text-align: right;\">\n",
       "      <th></th>\n",
       "      <th>link</th>\n",
       "      <th>loai_van_ban</th>\n",
       "      <th>ngay_ban_hanh</th>\n",
       "      <th>ngay_cong_bao</th>\n",
       "      <th>ngay_hieu_luc</th>\n",
       "      <th>nguoi_ky</th>\n",
       "      <th>noi_ban_hanh</th>\n",
       "      <th>so_cong_bao</th>\n",
       "      <th>so_hieu</th>\n",
       "      <th>title</th>\n",
       "      <th>van_ban_duoc_dan</th>\n",
       "      <th>noi_dung_day_du</th>\n",
       "    </tr>\n",
       "  </thead>\n",
       "  <tbody>\n",
       "    <tr>\n",
       "      <th>0</th>\n",
       "      <td>https://thuvienphapluat.vn/van-ban/So-huu-tri-...</td>\n",
       "      <td>Quyết định</td>\n",
       "      <td>20/01/2017</td>\n",
       "      <td>Đang cập nhật</td>\n",
       "      <td>Đã biết</td>\n",
       "      <td>Vũ Đức Đam</td>\n",
       "      <td>Thủ tướng Chính phủ</td>\n",
       "      <td>Đang cập nhật</td>\n",
       "      <td>88/QĐ-TTg</td>\n",
       "      <td>Quyết định 88/QĐ-TTg năm 2017 phê duyệt Đề án ...</td>\n",
       "      <td>{'Nghị quyết 102/NQ-CP': 'https://thuvienphapl...</td>\n",
       "      <td>THỦ TƯỚNG CHÍNH  PHỦ  ----------: Số: 88/QĐ-TT...</td>\n",
       "    </tr>\n",
       "    <tr>\n",
       "      <th>1</th>\n",
       "      <td>https://thuvienphapluat.vn/van-ban/So-huu-tri-...</td>\n",
       "      <td>Quyết định</td>\n",
       "      <td>19/01/2017</td>\n",
       "      <td>Đang cập nhật</td>\n",
       "      <td>Đã biết</td>\n",
       "      <td>Huỳnh Thanh Điền</td>\n",
       "      <td>Tỉnh Nghệ An</td>\n",
       "      <td>Đang cập nhật</td>\n",
       "      <td>320/QĐ-UBND</td>\n",
       "      <td>Quyết định 320/QĐ-UBND năm 2017 về phê duyệt C...</td>\n",
       "      <td>{}</td>\n",
       "      <td>ỦY BAN NHÂN DÂN  TỈNH NGHỆ AN  -------: Số: 32...</td>\n",
       "    </tr>\n",
       "    <tr>\n",
       "      <th>2</th>\n",
       "      <td>https://thuvienphapluat.vn/van-ban/So-huu-tri-...</td>\n",
       "      <td>Quyết định</td>\n",
       "      <td>13/02/2015</td>\n",
       "      <td>Đang cập nhật</td>\n",
       "      <td>Đã biết</td>\n",
       "      <td>Phạm Thế Dũng</td>\n",
       "      <td>Tỉnh Gia Lai</td>\n",
       "      <td>Đang cập nhật</td>\n",
       "      <td>160/QĐ-UBND</td>\n",
       "      <td>Quyết định 160/QĐ-UBND phê duyệt danh mục nhiệ...</td>\n",
       "      <td>{}</td>\n",
       "      <td>ỦY BAN NHÂN DÂN TỈNH GIA LAI  -------: Số: 160...</td>\n",
       "    </tr>\n",
       "    <tr>\n",
       "      <th>3</th>\n",
       "      <td>https://thuvienphapluat.vn/van-ban/So-huu-tri-...</td>\n",
       "      <td>Quyết định</td>\n",
       "      <td>05/02/2015</td>\n",
       "      <td>Đang cập nhật</td>\n",
       "      <td>Đã biết</td>\n",
       "      <td>Nguyễn Xuân Hồng</td>\n",
       "      <td>Cục Bảo vệ thực vật</td>\n",
       "      <td>Đang cập nhật</td>\n",
       "      <td>238/QĐ-BVTV</td>\n",
       "      <td>Quyết định 238/QĐ-BVTV năm 2015 công nhận “Quy...</td>\n",
       "      <td>{'Quyết định 86/2008/QĐ-BNN': 'https://thuvien...</td>\n",
       "      <td>BỘ NÔNG NGHIỆP VÀ  PHÁT TRIỂN NÔNG THÔN CỤC BẢ...</td>\n",
       "    </tr>\n",
       "    <tr>\n",
       "      <th>4</th>\n",
       "      <td>https://thuvienphapluat.vn/van-ban/So-huu-tri-...</td>\n",
       "      <td>Quyết định</td>\n",
       "      <td>14/06/2012</td>\n",
       "      <td>Đang cập nhật</td>\n",
       "      <td>Đã biết</td>\n",
       "      <td>Lý Hải Hầu</td>\n",
       "      <td>Tỉnh Cao Bằng</td>\n",
       "      <td>Đang cập nhật</td>\n",
       "      <td>739/QĐ-UBND</td>\n",
       "      <td>Quyết định 739/QĐ-UBND năm 2012 sửa đổi Quyết ...</td>\n",
       "      <td>{}</td>\n",
       "      <td>ỦY  BAN NHÂN DÂN  TỈNH CAO BẰNG  --------: Số:...</td>\n",
       "    </tr>\n",
       "  </tbody>\n",
       "</table>\n",
       "</div>"
      ],
      "text/plain": [
       "                                                link loai_van_ban  \\\n",
       "0  https://thuvienphapluat.vn/van-ban/So-huu-tri-...   Quyết định   \n",
       "1  https://thuvienphapluat.vn/van-ban/So-huu-tri-...   Quyết định   \n",
       "2  https://thuvienphapluat.vn/van-ban/So-huu-tri-...   Quyết định   \n",
       "3  https://thuvienphapluat.vn/van-ban/So-huu-tri-...   Quyết định   \n",
       "4  https://thuvienphapluat.vn/van-ban/So-huu-tri-...   Quyết định   \n",
       "\n",
       "  ngay_ban_hanh  ngay_cong_bao ngay_hieu_luc          nguoi_ky  \\\n",
       "0    20/01/2017  Đang cập nhật       Đã biết        Vũ Đức Đam   \n",
       "1    19/01/2017  Đang cập nhật       Đã biết  Huỳnh Thanh Điền   \n",
       "2    13/02/2015  Đang cập nhật       Đã biết     Phạm Thế Dũng   \n",
       "3    05/02/2015  Đang cập nhật       Đã biết  Nguyễn Xuân Hồng   \n",
       "4    14/06/2012  Đang cập nhật       Đã biết        Lý Hải Hầu   \n",
       "\n",
       "          noi_ban_hanh    so_cong_bao      so_hieu  \\\n",
       "0  Thủ tướng Chính phủ  Đang cập nhật    88/QĐ-TTg   \n",
       "1         Tỉnh Nghệ An  Đang cập nhật  320/QĐ-UBND   \n",
       "2         Tỉnh Gia Lai  Đang cập nhật  160/QĐ-UBND   \n",
       "3  Cục Bảo vệ thực vật  Đang cập nhật  238/QĐ-BVTV   \n",
       "4        Tỉnh Cao Bằng  Đang cập nhật  739/QĐ-UBND   \n",
       "\n",
       "                                               title  \\\n",
       "0  Quyết định 88/QĐ-TTg năm 2017 phê duyệt Đề án ...   \n",
       "1  Quyết định 320/QĐ-UBND năm 2017 về phê duyệt C...   \n",
       "2  Quyết định 160/QĐ-UBND phê duyệt danh mục nhiệ...   \n",
       "3  Quyết định 238/QĐ-BVTV năm 2015 công nhận “Quy...   \n",
       "4  Quyết định 739/QĐ-UBND năm 2012 sửa đổi Quyết ...   \n",
       "\n",
       "                                    van_ban_duoc_dan  \\\n",
       "0  {'Nghị quyết 102/NQ-CP': 'https://thuvienphapl...   \n",
       "1                                                 {}   \n",
       "2                                                 {}   \n",
       "3  {'Quyết định 86/2008/QĐ-BNN': 'https://thuvien...   \n",
       "4                                                 {}   \n",
       "\n",
       "                                     noi_dung_day_du  \n",
       "0  THỦ TƯỚNG CHÍNH  PHỦ  ----------: Số: 88/QĐ-TT...  \n",
       "1  ỦY BAN NHÂN DÂN  TỈNH NGHỆ AN  -------: Số: 32...  \n",
       "2  ỦY BAN NHÂN DÂN TỈNH GIA LAI  -------: Số: 160...  \n",
       "3  BỘ NÔNG NGHIỆP VÀ  PHÁT TRIỂN NÔNG THÔN CỤC BẢ...  \n",
       "4  ỦY  BAN NHÂN DÂN  TỈNH CAO BẰNG  --------: Số:...  "
      ]
     },
     "execution_count": 13,
     "metadata": {},
     "output_type": "execute_result"
    }
   ],
   "source": [
    "file_path = '../data/So-huu-tri-tue-processed.csv'\n",
    "df = pd.read_csv(file_path)\n",
    "df.head()"
   ]
  },
  {
   "cell_type": "code",
   "execution_count": null,
   "metadata": {
    "id": "0KWZV8sXqBUm"
   },
   "outputs": [],
   "source": [
    "def update_metadata(doc: Document):\n",
    "    # Lấy nội dung văn bản\n",
    "    text = doc.page_content\n",
    "\n",
    "    metadata = {}\n",
    "\n",
    "    metadata['link'] = re.search(r'link:\\s*(https?://\\S+)', text)\n",
    "    metadata['link'] = metadata['link'].group(1) if metadata['link'] else \"N/A\"\n",
    "\n",
    "    metadata['loai_van_ban'] = re.search(r'loai_van_ban:\\s*(\\S.+)', text)\n",
    "    metadata['loai_van_ban'] = metadata['loai_van_ban'].group(1) if metadata['loai_van_ban'] else \"N/A\"\n",
    "\n",
    "    metadata['ngay_ban_hanh'] = re.search(r'ngay_ban_hanh:\\s*(\\S.+)', text)\n",
    "    metadata['ngay_ban_hanh'] = metadata['ngay_ban_hanh'].group(1) if metadata['ngay_ban_hanh'] else \"N/A\"\n",
    "\n",
    "    metadata['noi_ban_hanh'] = re.search(r'noi_ban_hanh:\\s*(\\S.+)', text)\n",
    "    metadata['noi_ban_hanh'] = metadata['noi_ban_hanh'].group(1) if metadata['noi_ban_hanh'] else \"N/A\"\n",
    "\n",
    "    metadata['so_hieu'] = re.search(r'so_hieu:\\s*(\\S+)', text)\n",
    "    metadata['so_hieu'] = metadata['so_hieu'].group(1) if metadata['so_hieu'] else \"N/A\"\n",
    "\n",
    "    metadata['title'] = re.search(r'title:\\s*(\\S.+)', text)\n",
    "    metadata['title'] = metadata['title'].group(1) if metadata['title'] else \"N/A\"\n",
    "\n",
    "    metadata['van_ban_duoc_dan'] = re.search(r'van_ban_duoc_dan:\\s*(\\{.+\\})', text)\n",
    "    metadata['van_ban_duoc_dan'] = metadata['van_ban_duoc_dan'].group(1) if metadata['van_ban_duoc_dan'] else \"N/A\"\n",
    "\n",
    "    # Cập nhật metadata vào document\n",
    "    doc.metadata.update(metadata)\n",
    "\n",
    "    return doc"
   ]
  },
  {
   "cell_type": "code",
   "execution_count": null,
   "metadata": {
    "id": "my-Dy7uiqHf-"
   },
   "outputs": [],
   "source": [
    "def load_data(file_path):\n",
    "    if not os.path.exists(file_path):\n",
    "        raise FileNotFoundError(f\"The file '{file_path}' does not exist.\")\n",
    "\n",
    "    csv.field_size_limit(10**6)\n",
    "    loader = CSVLoader(file_path, encoding=\"utf-8\")\n",
    "\n",
    "    try:\n",
    "        documents = loader.load()\n",
    "    except Exception as e:\n",
    "        raise ValueError(f\"Failed to load CSV file '{file_path}': {e}\")\n",
    "\n",
    "    updated_documents = [update_metadata(doc) for doc in tqdm(documents)]\n",
    "\n",
    "    return updated_documents\n"
   ]
  },
  {
   "cell_type": "code",
   "execution_count": null,
   "metadata": {
    "id": "x2qttQP6qLq8"
   },
   "outputs": [],
   "source": [
    "documents = load_data(file_path)"
   ]
  },
  {
   "cell_type": "code",
   "execution_count": null,
   "metadata": {
    "id": "e2JQJBgGqMDn"
   },
   "outputs": [],
   "source": [
    "print(f'Tổng số tài liệu{len(documents)}')\n",
    "print(documents[0].metadata)"
   ]
  },
  {
   "cell_type": "code",
   "execution_count": null,
   "metadata": {
    "id": "z1LJAa1NqT1e"
   },
   "outputs": [],
   "source": [
    "def create_chroma_db(documents, persist_dir, batch_size=1000):\n",
    "    embeddings = HuggingFaceEmbeddings(\n",
    "        model_name=\"sentence-transformers/paraphrase-multilingual-MiniLM-L12-v2\"\n",
    "    )\n",
    "\n",
    "    text_splitter = RecursiveCharacterTextSplitter(chunk_size=1000, chunk_overlap=200)\n",
    "    docs = text_splitter.split_documents(documents)\n",
    "\n",
    "    print(f\"Number of chunks: {len(docs)}\")\n",
    "\n",
    "    if not os.path.exists(persist_dir):\n",
    "        os.makedirs(persist_dir)\n",
    "\n",
    "    vector_db = None\n",
    "    for i in tqdm(range(0, len(docs), batch_size)):\n",
    "        batch = docs[i:i+batch_size]\n",
    "\n",
    "        if vector_db is None:\n",
    "            vector_db = Chroma.from_documents(documents=batch, embedding=embeddings, persist_directory=persist_dir)\n",
    "        else:\n",
    "            vector_db.add_documents(batch)\n",
    "\n",
    "        print(f\"Persisted batch {i//batch_size + 1}\")\n",
    "\n",
    "    print(f\"Database persisted to {persist_dir}\")\n",
    "\n",
    "    return vector_db\n"
   ]
  },
  {
   "cell_type": "code",
   "execution_count": 16,
   "metadata": {
    "id": "XQ3UHBCkyyFx"
   },
   "outputs": [],
   "source": [
    "def load_chroma_db(persist_dir):\n",
    "    if not os.path.exists(persist_dir):\n",
    "        raise FileNotFoundError(f\"The directory '{persist_dir}' does not exist.\")\n",
    "\n",
    "    embeddings = HuggingFaceEmbeddings(\n",
    "        model_name=\"sentence-transformers/paraphrase-multilingual-MiniLM-L12-v2\"\n",
    "    )\n",
    "\n",
    "    # Load the Chroma vector store\n",
    "    vector_db = Chroma(persist_directory=persist_dir, embedding_function=embeddings)\n",
    "    return vector_db"
   ]
  },
  {
   "cell_type": "code",
   "execution_count": null,
   "metadata": {
    "id": "f1cv1H7Fqj2B"
   },
   "outputs": [],
   "source": [
    "# vector_db = create_chroma_db(documents, \"vector_db\")"
   ]
  },
  {
   "cell_type": "code",
   "execution_count": 34,
   "metadata": {
    "id": "BMCA9qtlGOou"
   },
   "outputs": [],
   "source": [
    "vector_db = load_chroma_db(\"../vector_db\")"
   ]
  },
  {
   "cell_type": "markdown",
   "metadata": {},
   "source": [
    "## Chatbot"
   ]
  },
  {
   "cell_type": "code",
   "execution_count": 39,
   "metadata": {},
   "outputs": [],
   "source": [
    "import os\n",
    "\n",
    "from dotenv import load_dotenv\n",
    "from langchain.retrievers import BM25Retriever, EnsembleRetriever\n",
    "from langchain.schema import Document\n",
    "from langchain_core.output_parsers import StrOutputParser\n",
    "from langchain_core.prompts import ChatPromptTemplate\n",
    "from langchain_core.runnables import RunnableMap, RunnablePassthrough\n",
    "from langchain_openai import ChatOpenAI\n",
    "from sentence_transformers import CrossEncoder"
   ]
  },
  {
   "cell_type": "code",
   "execution_count": 58,
   "metadata": {},
   "outputs": [],
   "source": [
    "# Load biến môi trường từ file .env\n",
    "load_dotenv()\n",
    "openai_api_key = os.getenv(\"OPENAI_API_KEY\")"
   ]
  },
  {
   "cell_type": "code",
   "execution_count": 59,
   "metadata": {},
   "outputs": [],
   "source": [
    "# Khởi tạo mô hình LLM với cấu hình\n",
    "llm = ChatOpenAI(\n",
    "    temperature=0,\n",
    "    streaming=True,\n",
    "    model=\"gpt-4o-mini\",\n",
    "    openai_api_key=openai_api_key,\n",
    ")"
   ]
  },
  {
   "cell_type": "code",
   "execution_count": 60,
   "metadata": {},
   "outputs": [],
   "source": [
    "# Định nghĩa mẫu prompt\n",
    "system = \"\"\"You are a Intellectual property Lawer . Your name is iLaw. You are here to help people with their legal questions.\n",
    "Here is the context you should refer to:\n",
    "{context}\n",
    "Your response must be in Vietnamese. \n",
    "If there is no relevant documentation, reply no data.\n",
    "\"\"\"\n",
    "prompt_template = ChatPromptTemplate.from_messages(\n",
    "    [(\"system\", system), (\"human\", \"Question: {question}\")]\n",
    ")\n",
    "\n",
    "# Khởi tạo chuỗi RAG với prompt_template\n",
    "rag_chain = (\n",
    "    RunnableMap(\n",
    "        {\"context\": RunnablePassthrough(), \"question\": RunnablePassthrough()}\n",
    "    )\n",
    "    | prompt_template\n",
    "    | llm\n",
    "    | StrOutputParser()\n",
    ")"
   ]
  },
  {
   "cell_type": "code",
   "execution_count": 70,
   "metadata": {},
   "outputs": [],
   "source": [
    "class EnhancedEnsembleRetriever:\n",
    "    def __init__(self, retrievers, weights, reranker_model=None):\n",
    "        self.retrievers = retrievers\n",
    "        self.weights = weights\n",
    "        self.reranker = CrossEncoder(reranker_model) if reranker_model else None\n",
    "\n",
    "    def invoke(self, query):\n",
    "        # 1. Lấy kết quả từ từng retriever\n",
    "        all_results = []\n",
    "        for retriever, weight in zip(self.retrievers, self.weights):\n",
    "            results = retriever.get_relevant_documents(query)\n",
    "            for doc in results:\n",
    "                doc.metadata['score'] = doc.metadata.get('score', 1.0) * weight\n",
    "            all_results.extend(results)\n",
    "\n",
    "        # 2. Loại bỏ trùng lặp (nếu cần) theo nội dung\n",
    "        unique_results = []\n",
    "        seen_content = set()\n",
    "\n",
    "        for doc in all_results:\n",
    "            content = doc.page_content\n",
    "            if content not in seen_content:\n",
    "                unique_results.append(doc)\n",
    "                seen_content.add(content)\n",
    "        \n",
    "\n",
    "        # 3. Rerank nếu có mô hình reranker\n",
    "        if self.reranker:\n",
    "            query_doc_pairs = [(query, doc.page_content) for doc in unique_results]\n",
    "            scores = self.reranker.predict(query_doc_pairs)\n",
    "            reranked_results = sorted(\n",
    "                zip(unique_results, scores),\n",
    "                key=lambda x: x[1],  # Sắp xếp theo điểm số\n",
    "                reverse=True\n",
    "            )\n",
    "            return [doc for doc, score in reranked_results]\n",
    "\n",
    "        # 4. Nếu không rerank, trả về kết quả theo trọng số\n",
    "        return sorted(unique_results, key=lambda x: x.metadata['score'], reverse=True)"
   ]
  },
  {
   "cell_type": "code",
   "execution_count": 71,
   "metadata": {},
   "outputs": [],
   "source": [
    "# Hàm tạo retriever từ Chroma và BM25\n",
    "def create_retriever(vector_db, query, k=4):\n",
    "\n",
    "    # Tạo BM25 retriever\n",
    "    chroma_retriever = vector_db.as_retriever(search_type='similarity', search_kwargs={'k': 4})\n",
    "\n",
    "    documents_bm25 = [\n",
    "        Document(page_content=doc.page_content, metadata=doc.metadata)\n",
    "        for doc in vector_db.similarity_search(\"\", k=300)\n",
    "    ]\n",
    "\n",
    "    bm25_retriever = BM25Retriever.from_documents(documents_bm25)\n",
    "    bm25_retriever.k = 4\n",
    "\n",
    "    ensemble_retriever = EnhancedEnsembleRetriever(\n",
    "        retrievers=[chroma_retriever, bm25_retriever],\n",
    "        weights=[0.7, 0.3],\n",
    "        reranker_model='cross-encoder/ms-marco-MiniLM-L-12-v2'\n",
    "    )\n",
    "\n",
    "    return ensemble_retriever"
   ]
  },
  {
   "cell_type": "code",
   "execution_count": 63,
   "metadata": {},
   "outputs": [],
   "source": [
    "# Hàm lấy tài liệu phù hợp từ retriever\n",
    "def retrieve_documents(ensemble_retriever, query, top_k=4):\n",
    "    docs = ensemble_retriever.invoke(query=query)\n",
    "    return docs[:top_k]\n",
    "# Hàm định dạng tài liệu thành chuỗi\n",
    "def format_docs(docs):\n",
    "    return \"\\n\\n\".join([doc.page_content for doc in docs])\n",
    "\n",
    "def remove_json_formatting(input_text):\n",
    "    # Loại bỏ dấu ```json và ``` nếu chúng có trong input_text\n",
    "    cleaned_text = input_text.strip(\"```json\").strip(\"```\").strip()\n",
    "    return cleaned_text\n"
   ]
  },
  {
   "cell_type": "code",
   "execution_count": 72,
   "metadata": {},
   "outputs": [],
   "source": [
    "# Hàm gọi chuỗi RAG và sinh câu trả lời\n",
    "def generate_answer(vector_db, question, top_k=4):\n",
    "    ensemble_retriever = create_retriever( vector_db, question, k=top_k)\n",
    "    docs = retrieve_documents(ensemble_retriever, question, top_k=top_k)\n",
    "    links =[]\n",
    "    titles = []\n",
    "    # Lấy những thông tin cần thiết từ metadata của tài liệu: link, title\n",
    "    for doc in docs:\n",
    "        links.append(doc.metadata['link'])\n",
    "        titles.append(doc.metadata['title'])\n",
    "        \n",
    "    formatted_docs = format_docs(docs)\n",
    "    output = rag_chain.invoke({\"context\": formatted_docs, \"question\": question})\n",
    "    # output = remove_json_formatting(output)\n",
    "    # print(formatted_docs)\n",
    "    return output, links, titles"
   ]
  },
  {
   "cell_type": "code",
   "execution_count": 73,
   "metadata": {},
   "outputs": [],
   "source": [
    "question = \"Quy định về bản quyền trong luật sở hữu trí tuệ\""
   ]
  },
  {
   "cell_type": "code",
   "execution_count": 74,
   "metadata": {},
   "outputs": [],
   "source": [
    "output, links, titles = generate_answer(vector_db, question, top_k=4)"
   ]
  },
  {
   "cell_type": "code",
   "execution_count": 75,
   "metadata": {},
   "outputs": [
    {
     "data": {
      "text/plain": [
       "['https://thuvienphapluat.vn/van-ban/So-huu-tri-tue/Thong-tu-lien-tich-02-2008-TTLT-TANDTC-VKSNDTC-BVHTT-DL-BKH-CN-BTP-huong-dan-ap-dung-quy-dinh-cua-phap-luat-giai-quyet-cac-tranh-chap-65887.aspx',\n",
       " 'https://thuvienphapluat.vn/van-ban/So-huu-tri-tue/Thong-tu-lien-tich-02-2008-TTLT-TANDTC-VKSNDTC-BVHTT-DL-BKH-CN-BTP-huong-dan-ap-dung-quy-dinh-cua-phap-luat-giai-quyet-cac-tranh-chap-65887.aspx',\n",
       " 'https://thuvienphapluat.vn/van-ban/So-huu-tri-tue/Thong-tu-lien-tich-02-2008-TTLT-TANDTC-VKSNDTC-BVHTT-DL-BKH-CN-BTP-huong-dan-ap-dung-quy-dinh-cua-phap-luat-giai-quyet-cac-tranh-chap-65887.aspx',\n",
       " 'https://thuvienphapluat.vn/van-ban/So-huu-tri-tue/Thong-tu-lien-tich-02-2008-TTLT-TANDTC-VKSNDTC-BVHTT-DL-BKH-CN-BTP-huong-dan-ap-dung-quy-dinh-cua-phap-luat-giai-quyet-cac-tranh-chap-65887.aspx']"
      ]
     },
     "execution_count": 75,
     "metadata": {},
     "output_type": "execute_result"
    }
   ],
   "source": [
    "links"
   ]
  },
  {
   "cell_type": "code",
   "execution_count": 76,
   "metadata": {},
   "outputs": [
    {
     "data": {
      "text/plain": [
       "['Thông tư liên tịch 02/2008/TTLT-TANDTC-VKSNDTC-BVHTT&DL-BKH&CN-BTP hướng dẫn giải quyết các tranh chấp về quyền sở hữu trí tuệ tại Toà án nhân dân do Tòa án nhân dân tối cao - Viện Kiểm sát nhân dân tối cao - Bộ Văn hóa, Thể thao và Du lịch - Bộ Khoa học và Công nghệ - Bộ Tư pháp ban hành',\n",
       " 'Thông tư liên tịch 02/2008/TTLT-TANDTC-VKSNDTC-BVHTT&DL-BKH&CN-BTP hướng dẫn giải quyết các tranh chấp về quyền sở hữu trí tuệ tại Toà án nhân dân do Tòa án nhân dân tối cao - Viện Kiểm sát nhân dân tối cao - Bộ Văn hóa, Thể thao và Du lịch - Bộ Khoa học và Công nghệ - Bộ Tư pháp ban hành',\n",
       " 'Thông tư liên tịch 02/2008/TTLT-TANDTC-VKSNDTC-BVHTT&DL-BKH&CN-BTP hướng dẫn giải quyết các tranh chấp về quyền sở hữu trí tuệ tại Toà án nhân dân do Tòa án nhân dân tối cao - Viện Kiểm sát nhân dân tối cao - Bộ Văn hóa, Thể thao và Du lịch - Bộ Khoa học và Công nghệ - Bộ Tư pháp ban hành',\n",
       " 'Thông tư liên tịch 02/2008/TTLT-TANDTC-VKSNDTC-BVHTT&DL-BKH&CN-BTP hướng dẫn giải quyết các tranh chấp về quyền sở hữu trí tuệ tại Toà án nhân dân do Tòa án nhân dân tối cao - Viện Kiểm sát nhân dân tối cao - Bộ Văn hóa, Thể thao và Du lịch - Bộ Khoa học và Công nghệ - Bộ Tư pháp ban hành']"
      ]
     },
     "execution_count": 76,
     "metadata": {},
     "output_type": "execute_result"
    }
   ],
   "source": [
    "titles"
   ]
  },
  {
   "cell_type": "code",
   "execution_count": 78,
   "metadata": {},
   "outputs": [
    {
     "data": {
      "text/plain": [
       "'Trong Luật sở hữu trí tuệ, quyền tài sản thuộc quyền tác giả được quy định tại Điều 20. Theo đó, quyền tài sản bao gồm các quyền như sao chép tác phẩm, cho phép tạo tác phẩm phái sinh, phân phối, nhập khẩu bản gốc và bản sao tác phẩm, truyền đạt tác phẩm đến công chúng, và cho thuê bản gốc hoặc bản sao chương trình máy tính. \\n\\nTuy nhiên, có sự khác biệt giữa quy định trong Luật sở hữu trí tuệ và Bộ luật dân sự năm 2005. Cụ thể, Bộ luật dân sự năm 2005 không quy định về quyền biểu diễn tác phẩm trước công chúng và cho thuê bản gốc hoặc bản sao tác phẩm điện ảnh, điều này có thể dẫn đến những tranh chấp trong việc áp dụng pháp luật.\\n\\nKhi giải quyết các tranh chấp liên quan đến quyền tác giả, Tòa án sẽ áp dụng quy định của Luật sở hữu trí tuệ, đặc biệt là trong trường hợp quyền tác giả vẫn còn trong thời hạn bảo hộ. Nếu quyền tác giả đã hết thời hạn bảo hộ, Tòa án sẽ không thụ lý đơn khởi kiện để giải quyết. \\n\\nNgoài ra, quyền sở hữu công nghiệp cũng được xác lập theo các quy định của Luật sở hữu trí tuệ, và các tranh chấp liên quan đến quyền sở hữu công nghiệp sẽ được giải quyết theo quy định của Luật này, trừ những trường hợp liên quan đến hiệu lực của các văn bằng bảo hộ.'"
      ]
     },
     "execution_count": 78,
     "metadata": {},
     "output_type": "execute_result"
    }
   ],
   "source": [
    "output"
   ]
  },
  {
   "cell_type": "code",
   "execution_count": null,
   "metadata": {},
   "outputs": [],
   "source": []
  }
 ],
 "metadata": {
  "colab": {
   "private_outputs": true,
   "provenance": []
  },
  "kernelspec": {
   "display_name": ".venv",
   "language": "python",
   "name": "python3"
  },
  "language_info": {
   "codemirror_mode": {
    "name": "ipython",
    "version": 3
   },
   "file_extension": ".py",
   "mimetype": "text/x-python",
   "name": "python",
   "nbconvert_exporter": "python",
   "pygments_lexer": "ipython3",
   "version": "3.12.7"
  }
 },
 "nbformat": 4,
 "nbformat_minor": 0
}
